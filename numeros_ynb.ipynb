{
  "nbformat": 4,
  "nbformat_minor": 0,
  "metadata": {
    "colab": {
      "provenance": [],
      "authorship_tag": "ABX9TyNUARjUvURbJ8C8VAdwR1iw",
      "include_colab_link": true
    },
    "kernelspec": {
      "name": "python3",
      "display_name": "Python 3"
    },
    "language_info": {
      "name": "python"
    }
  },
  "cells": [
    {
      "cell_type": "markdown",
      "metadata": {
        "id": "view-in-github",
        "colab_type": "text"
      },
      "source": [
        "<a href=\"https://colab.research.google.com/github/Alvargim/forexag/blob/main/numeros_ynb.ipynb\" target=\"_parent\"><img src=\"https://colab.research.google.com/assets/colab-badge.svg\" alt=\"Open In Colab\"/></a>"
      ]
    },
    {
      "cell_type": "code",
      "execution_count": 33,
      "metadata": {
        "colab": {
          "base_uri": "https://localhost:8080/"
        },
        "id": "zLOScHP2NzGG",
        "outputId": "cadf3cc7-551d-4d69-d243-fe79a071a2a3"
      },
      "outputs": [
        {
          "output_type": "stream",
          "name": "stdout",
          "text": [
            "6\n",
            "7\n"
          ]
        }
      ],
      "source": [
        "numero_n = int(input())\n",
        "numero = numero_n + 1\n",
        "##print(f'{numero}:el número entero sucesor al numero n, con valor igual a n + 1.')\n",
        "print(numero)\n"
      ]
    },
    {
      "cell_type": "code",
      "source": [
        "\n",
        "        # Solicitamos al usuario que ingrese un valor\n",
        "        entrada = int(input())\n",
        "\n",
        "        # Convertimos la entrada a un número entero\n",
        "\n",
        "        numero = numero_n + 1 = -50000 <= numero <= 50000\n",
        "        # Verificamos si el número está dentro del rango deseado\n",
        "\n",
        "            # El número está en el rango válido, podemos salir del bucle.\n",
        "\n",
        "            # El número no está en el rango válido, mostramos un mensaje de error.\n",
        "            print(f\"{numero} El número no está dentro del rango válido. Intente de nuevo.\")\n"
      ],
      "metadata": {
        "id": "zT7Z8eRqSpMi",
        "colab": {
          "base_uri": "https://localhost:8080/",
          "height": 140
        },
        "outputId": "fa9d2648-8965-4f81-b480-3d8364af7a8a"
      },
      "execution_count": null,
      "outputs": [
        {
          "output_type": "error",
          "ename": "SyntaxError",
          "evalue": "ignored",
          "traceback": [
            "\u001b[0;36m  File \u001b[0;32m\"<ipython-input-65-03e6c65aaf88>\"\u001b[0;36m, line \u001b[0;32m6\u001b[0m\n\u001b[0;31m    numero = numero_n + 1 = -50000 <= numero <= 50000\u001b[0m\n\u001b[0m             ^\u001b[0m\n\u001b[0;31mSyntaxError\u001b[0m\u001b[0;31m:\u001b[0m cannot assign to expression\n"
          ]
        }
      ]
    },
    {
      "cell_type": "code",
      "source": [
        "numero_n = input()\n",
        "\n",
        "        # Convertimos la entrada a un número entero\n",
        "        numero(int)  = -50000 <= n+1 <= 50000:\n",
        "\n",
        "# En este punto, n contiene el valor válido dentro del rango.\n",
        "print(f-sucesor: el número entero sucesor al número n, con valor igual a n+1.: {n}\")"
      ],
      "metadata": {
        "colab": {
          "base_uri": "https://localhost:8080/",
          "height": 140
        },
        "id": "H3LweP-PTHHy",
        "outputId": "9e16800a-426d-4493-d059-51eacfecad72"
      },
      "execution_count": null,
      "outputs": [
        {
          "output_type": "error",
          "ename": "IndentationError",
          "evalue": "ignored",
          "traceback": [
            "\u001b[0;36m  File \u001b[0;32m\"<ipython-input-54-5acb4f2d1370>\"\u001b[0;36m, line \u001b[0;32m4\u001b[0m\n\u001b[0;31m    numero(int)  = -50000 <= n+1 <= 50000:\u001b[0m\n\u001b[0m    ^\u001b[0m\n\u001b[0;31mIndentationError\u001b[0m\u001b[0;31m:\u001b[0m unexpected indent\n"
          ]
        }
      ]
    },
    {
      "cell_type": "code",
      "source": [
        "n = int( input())\n",
        "while not (-50000 <= n+1 <= 50000)\n",
        "print(f\"Ha ingresado el número entero válido: {n}\")\n"
      ],
      "metadata": {
        "colab": {
          "base_uri": "https://localhost:8080/",
          "height": 140
        },
        "id": "fsh5JMb9VxkB",
        "outputId": "0e19c1d0-b946-47d4-d474-7a25deea0109"
      },
      "execution_count": null,
      "outputs": [
        {
          "output_type": "error",
          "ename": "SyntaxError",
          "evalue": "ignored",
          "traceback": [
            "\u001b[0;36m  File \u001b[0;32m\"<ipython-input-59-b2f88ff571bf>\"\u001b[0;36m, line \u001b[0;32m2\u001b[0m\n\u001b[0;31m    while not (-50000 <= n+1 <= 50000)\u001b[0m\n\u001b[0m                                      ^\u001b[0m\n\u001b[0;31mSyntaxError\u001b[0m\u001b[0;31m:\u001b[0m expected ':'\n"
          ]
        }
      ]
    },
    {
      "cell_type": "code",
      "source": [
        "n = int(input())\n",
        "n = int(-50000 <= n <= 50000)\n",
        "print(f\"Ha ingresado el número entero válido: {n}\")\n"
      ],
      "metadata": {
        "id": "ZTYFZdtOYM_I"
      },
      "execution_count": null,
      "outputs": []
    },
    {
      "cell_type": "code",
      "source": [
        "numero = input()\n",
        "numero = int(numero)  # Convierte la entrada a un número entero.\n",
        "numero = numero + 1\n",
        "print(numero)\n"
      ],
      "metadata": {
        "id": "sGVorA47Lmvt"
      },
      "execution_count": null,
      "outputs": []
    },
    {
      "cell_type": "code",
      "source": [
        "numero_n = int(input())\n",
        "\n",
        "##Operación matemática y asignación (~ 1 línea).\n",
        "numero = numero_n + 1\n",
        "\n",
        "##Salida del programa (~ 1 línea).\n",
        "\n",
        "print(f'{numero}:el número entero sucesor al número {numero_n}, con valor igual a {numero}.')"
      ],
      "metadata": {
        "colab": {
          "base_uri": "https://localhost:8080/"
        },
        "id": "Y_iao-DSVas5",
        "outputId": "4d360e97-25a5-4cf1-e8b3-90f29b14f77a"
      },
      "execution_count": 37,
      "outputs": [
        {
          "output_type": "stream",
          "name": "stdout",
          "text": [
            "20\n",
            "21:el número entero sucesor al número 20, con valor igual a 21.\n"
          ]
        }
      ]
    }
  ]
}